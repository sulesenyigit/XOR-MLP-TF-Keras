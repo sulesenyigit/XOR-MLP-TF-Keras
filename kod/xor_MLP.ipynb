{
  "nbformat": 4,
  "nbformat_minor": 0,
  "metadata": {
    "colab": {
      "name": "xor_MLP.ipynb",
      "provenance": [],
      "authorship_tag": "ABX9TyMHUOqLGJ4rW6YjM5kiBoX3",
      "include_colab_link": true
    },
    "kernelspec": {
      "name": "python3",
      "display_name": "Python 3"
    },
    "language_info": {
      "name": "python"
    }
  },
  "cells": [
    {
      "cell_type": "markdown",
      "metadata": {
        "id": "view-in-github",
        "colab_type": "text"
      },
      "source": [
        "<a href=\"https://colab.research.google.com/github/gumushane-eem-eesec-440/xor-MLP-TF-keras/blob/main/code/xor_MLP.ipynb\" target=\"_parent\"><img src=\"https://colab.research.google.com/assets/colab-badge.svg\" alt=\"Open In Colab\"/></a>"
      ]
    },
    {
      "cell_type": "markdown",
      "metadata": {
        "id": "AS0WvQmb9u3u"
      },
      "source": [
        "En başta bu kodda kullanacağımız **fonksiyonları** çağıracağımız **kütüphaneleri** dahil ediyoruz.</br>First we import the **libraries** to use the **functions** that we are going to invoke in this code."
      ]
    },
    {
      "cell_type": "code",
      "metadata": {
        "id": "oEt2F1xE98lj"
      },
      "source": [
        "import tensorflow as tf # Google tarafından geliştirilen TF kütüphanesi, en ciddi rakibi Facebook tarafından geliştirilen Pytorch kütüphanesi\n",
        "import matplotlib.pyplot as plt # grafik çizdirmek için\n",
        "import numpy as np # numerical python kütüphanesi\n",
        "import pandas as pd\n",
        "import sys\n",
        "from numpy import random\n",
        "from google.colab import files"
      ],
      "execution_count": 1,
      "outputs": []
    },
    {
      "cell_type": "markdown",
      "metadata": {
        "id": "tn5T_SV0-h88"
      },
      "source": [
        "Bildiğimiz gibi, *XOR* problemi *Elektrik-Elektronik Mühendisliğinde* mantıksal devreler (**logic circuits**) alanında karşımıza çıkan bir problem. İki girişli ve tek çıkışlı (**two input one output**) bir sistemin girişleri *TRUE-FALSE* (veya *1-0* veya *HIGH-LOW*) olarak isimlendirilen *Boolean* veri tipinde değer alıyorlar. Benzer şekilde çıkış da yine *1-0* Boolean değişkenlerinden birisi oluyor.\n",
        "\n",
        "![xor_problem_resized.jpg](data:image/jpeg;base64,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)\n",
        "\n",
        "Aşağıda **numpy** kütüphanesi kullanarak giriş (**input**) ve hedef (**target**) verilerini oluşturduk. Dikkat edin, burada hedef verisine İngilizce'de **annonation** deniyor. Yani bizler hedef değişkenini oluşturduğumuzda giriş verisini **annotate** etmiş (etiket - **label**) oluyoruz."
      ]
    },
    {
      "cell_type": "code",
      "metadata": {
        "id": "2-AzJ3XO_h37"
      },
      "source": [
        "trainingData = np.array([[0,0], [0,1], [1,0], [1,1]], \"float32\")\n",
        "targetData = np.array([[0], [1], [1], [0]], \"float32\")"
      ],
      "execution_count": 2,
      "outputs": []
    },
    {
      "cell_type": "markdown",
      "metadata": {
        "id": "zp5D43xnGBDO"
      },
      "source": [
        "Yukarıda ürettiğimiz giriş-çıkış verisini aşağıda konsola yazdıralım.\n",
        "\n",
        "Let's print out the **input-output data** generated above in the console."
      ]
    },
    {
      "cell_type": "code",
      "metadata": {
        "id": "-ykiYsZ-FXLo",
        "colab": {
          "base_uri": "https://localhost:8080/"
        },
        "outputId": "2aa13e21-47af-4531-b0fa-26f434a14eee"
      },
      "source": [
        "print(trainingData)\n",
        "print(targetData)"
      ],
      "execution_count": 3,
      "outputs": [
        {
          "output_type": "stream",
          "text": [
            "[[0. 0.]\n",
            " [0. 1.]\n",
            " [1. 0.]\n",
            " [1. 1.]]\n",
            "[[0.]\n",
            " [1.]\n",
            " [1.]\n",
            " [0.]]\n"
          ],
          "name": "stdout"
        }
      ]
    },
    {
      "cell_type": "markdown",
      "metadata": {
        "id": "Z9-FMXhVHHbI"
      },
      "source": [
        "**TF** kütüphanesinin içerisinde yer alan **Keras** kütüphanesiyle bir tane çok katmanlı sinir ağı (**multi-layer perceptron** - **MLP**) oluşturalım. Giriş sayısının iki, çıkış sayısının bir olduğunu, gizli katman (**hidden layer**) sayısını ve bu katmanlardaki nöron sayısını (**number of neurons**) ve de hangi aktivasyon fonksiyonunu (**activation function**) kullandığımızı adım adım seçeceğiz."
      ]
    },
    {
      "cell_type": "code",
      "metadata": {
        "id": "cSzDa8AbIR__"
      },
      "source": [
        "model = tf.keras.models.Sequential(layers=None, name='xor_MLP')\n",
        "model.add(tf.keras.layers.Dense(16, input_dim = 2, activation = 'relu', name='HL1'))\n",
        "model.add(tf.keras.layers.Dense(1, activation = 'sigmoid', name='outputLayer'))"
      ],
      "execution_count": 10,
      "outputs": []
    },
    {
      "cell_type": "markdown",
      "metadata": {
        "id": "SQkckWbDY5KP"
      },
      "source": [
        "Yukarıdaki kodda yapay sinir ağımızın yapısını (**structure**) yani katman sayısı, katmanlardaki nöron miktarı, nöron çıkışlarında kullanılan aktivasyon fonksiyon tiplerini belirledik. Bir sonraki adım olarak öğrenme (**learning**) işlemini başlatacağız. Şimdi öğrenme işleminin nasıl olacağını belirleyelim."
      ]
    },
    {
      "cell_type": "code",
      "metadata": {
        "id": "47tBVG-maMpl",
        "colab": {
          "base_uri": "https://localhost:8080/"
        },
        "outputId": "d8aad492-1d5e-425a-ded1-fb49d0bd79f9"
      },
      "source": [
        "model.compile(optimizer='adam', loss='mean_squared_error', metrics='binary_accuracy')\n",
        "model.summary()"
      ],
      "execution_count": 11,
      "outputs": [
        {
          "output_type": "stream",
          "text": [
            "Model: \"xor_MLP\"\n",
            "_________________________________________________________________\n",
            "Layer (type)                 Output Shape              Param #   \n",
            "=================================================================\n",
            "HL1 (Dense)                  (None, 16)                48        \n",
            "_________________________________________________________________\n",
            "outputLayer (Dense)          (None, 1)                 17        \n",
            "=================================================================\n",
            "Total params: 65\n",
            "Trainable params: 65\n",
            "Non-trainable params: 0\n",
            "_________________________________________________________________\n"
          ],
          "name": "stdout"
        }
      ]
    },
    {
      "cell_type": "markdown",
      "metadata": {
        "id": "EOwRDZDbgST2"
      },
      "source": [
        "Son olarak konfigürasyonunu tamamladığımız çok katmanlı yapay sinir ağının eğitimini başlatıyoruz."
      ]
    },
    {
      "cell_type": "code",
      "metadata": {
        "id": "s8qkttEjgeLF",
        "colab": {
          "base_uri": "https://localhost:8080/"
        },
        "outputId": "443e3b67-7a5c-40b7-ef74-87817062bc51"
      },
      "source": [
        "history=model.fit(trainingData, targetData, epochs=150, verbose=1)"
      ],
      "execution_count": 12,
      "outputs": [
        {
          "output_type": "stream",
          "text": [
            "Epoch 1/150\n",
            "1/1 [==============================] - 0s 367ms/step - loss: 0.2475 - binary_accuracy: 0.7500\n",
            "Epoch 2/150\n",
            "1/1 [==============================] - 0s 4ms/step - loss: 0.2473 - binary_accuracy: 0.5000\n",
            "Epoch 3/150\n",
            "1/1 [==============================] - 0s 5ms/step - loss: 0.2471 - binary_accuracy: 0.5000\n",
            "Epoch 4/150\n",
            "1/1 [==============================] - 0s 11ms/step - loss: 0.2468 - binary_accuracy: 0.5000\n",
            "Epoch 5/150\n",
            "1/1 [==============================] - 0s 8ms/step - loss: 0.2466 - binary_accuracy: 0.5000\n",
            "Epoch 6/150\n",
            "1/1 [==============================] - 0s 5ms/step - loss: 0.2464 - binary_accuracy: 0.5000\n",
            "Epoch 7/150\n",
            "1/1 [==============================] - 0s 4ms/step - loss: 0.2462 - binary_accuracy: 0.5000\n",
            "Epoch 8/150\n",
            "1/1 [==============================] - 0s 5ms/step - loss: 0.2460 - binary_accuracy: 0.5000\n",
            "Epoch 9/150\n",
            "1/1 [==============================] - 0s 10ms/step - loss: 0.2458 - binary_accuracy: 0.5000\n",
            "Epoch 10/150\n",
            "1/1 [==============================] - 0s 5ms/step - loss: 0.2456 - binary_accuracy: 0.5000\n",
            "Epoch 11/150\n",
            "1/1 [==============================] - 0s 5ms/step - loss: 0.2454 - binary_accuracy: 0.5000\n",
            "Epoch 12/150\n",
            "1/1 [==============================] - 0s 8ms/step - loss: 0.2452 - binary_accuracy: 0.5000\n",
            "Epoch 13/150\n",
            "1/1 [==============================] - 0s 6ms/step - loss: 0.2449 - binary_accuracy: 0.5000\n",
            "Epoch 14/150\n",
            "1/1 [==============================] - 0s 5ms/step - loss: 0.2447 - binary_accuracy: 0.5000\n",
            "Epoch 15/150\n",
            "1/1 [==============================] - 0s 5ms/step - loss: 0.2445 - binary_accuracy: 0.5000\n",
            "Epoch 16/150\n",
            "1/1 [==============================] - 0s 5ms/step - loss: 0.2443 - binary_accuracy: 0.5000\n",
            "Epoch 17/150\n",
            "1/1 [==============================] - 0s 7ms/step - loss: 0.2441 - binary_accuracy: 0.5000\n",
            "Epoch 18/150\n",
            "1/1 [==============================] - 0s 8ms/step - loss: 0.2439 - binary_accuracy: 0.5000\n",
            "Epoch 19/150\n",
            "1/1 [==============================] - 0s 8ms/step - loss: 0.2437 - binary_accuracy: 0.5000\n",
            "Epoch 20/150\n",
            "1/1 [==============================] - 0s 6ms/step - loss: 0.2434 - binary_accuracy: 0.5000\n",
            "Epoch 21/150\n",
            "1/1 [==============================] - 0s 6ms/step - loss: 0.2432 - binary_accuracy: 0.5000\n",
            "Epoch 22/150\n",
            "1/1 [==============================] - 0s 5ms/step - loss: 0.2430 - binary_accuracy: 0.5000\n",
            "Epoch 23/150\n",
            "1/1 [==============================] - 0s 5ms/step - loss: 0.2428 - binary_accuracy: 0.5000\n",
            "Epoch 24/150\n",
            "1/1 [==============================] - 0s 6ms/step - loss: 0.2426 - binary_accuracy: 0.5000\n",
            "Epoch 25/150\n",
            "1/1 [==============================] - 0s 6ms/step - loss: 0.2424 - binary_accuracy: 0.5000\n",
            "Epoch 26/150\n",
            "1/1 [==============================] - 0s 4ms/step - loss: 0.2422 - binary_accuracy: 0.5000\n",
            "Epoch 27/150\n",
            "1/1 [==============================] - 0s 6ms/step - loss: 0.2420 - binary_accuracy: 0.5000\n",
            "Epoch 28/150\n",
            "1/1 [==============================] - 0s 5ms/step - loss: 0.2417 - binary_accuracy: 0.5000\n",
            "Epoch 29/150\n",
            "1/1 [==============================] - 0s 9ms/step - loss: 0.2415 - binary_accuracy: 0.5000\n",
            "Epoch 30/150\n",
            "1/1 [==============================] - 0s 8ms/step - loss: 0.2413 - binary_accuracy: 0.5000\n",
            "Epoch 31/150\n",
            "1/1 [==============================] - 0s 5ms/step - loss: 0.2411 - binary_accuracy: 0.5000\n",
            "Epoch 32/150\n",
            "1/1 [==============================] - 0s 8ms/step - loss: 0.2409 - binary_accuracy: 0.5000\n",
            "Epoch 33/150\n",
            "1/1 [==============================] - 0s 7ms/step - loss: 0.2407 - binary_accuracy: 0.5000\n",
            "Epoch 34/150\n",
            "1/1 [==============================] - 0s 6ms/step - loss: 0.2404 - binary_accuracy: 0.5000\n",
            "Epoch 35/150\n",
            "1/1 [==============================] - 0s 9ms/step - loss: 0.2402 - binary_accuracy: 0.5000\n",
            "Epoch 36/150\n",
            "1/1 [==============================] - 0s 6ms/step - loss: 0.2400 - binary_accuracy: 0.5000\n",
            "Epoch 37/150\n",
            "1/1 [==============================] - 0s 4ms/step - loss: 0.2398 - binary_accuracy: 0.5000\n",
            "Epoch 38/150\n",
            "1/1 [==============================] - 0s 6ms/step - loss: 0.2396 - binary_accuracy: 0.7500\n",
            "Epoch 39/150\n",
            "1/1 [==============================] - 0s 4ms/step - loss: 0.2393 - binary_accuracy: 0.7500\n",
            "Epoch 40/150\n",
            "1/1 [==============================] - 0s 4ms/step - loss: 0.2391 - binary_accuracy: 0.7500\n",
            "Epoch 41/150\n",
            "1/1 [==============================] - 0s 5ms/step - loss: 0.2389 - binary_accuracy: 0.7500\n",
            "Epoch 42/150\n",
            "1/1 [==============================] - 0s 18ms/step - loss: 0.2387 - binary_accuracy: 0.7500\n",
            "Epoch 43/150\n",
            "1/1 [==============================] - 0s 34ms/step - loss: 0.2385 - binary_accuracy: 0.7500\n",
            "Epoch 44/150\n",
            "1/1 [==============================] - 0s 6ms/step - loss: 0.2382 - binary_accuracy: 0.7500\n",
            "Epoch 45/150\n",
            "1/1 [==============================] - 0s 8ms/step - loss: 0.2380 - binary_accuracy: 0.7500\n",
            "Epoch 46/150\n",
            "1/1 [==============================] - 0s 7ms/step - loss: 0.2378 - binary_accuracy: 0.7500\n",
            "Epoch 47/150\n",
            "1/1 [==============================] - 0s 7ms/step - loss: 0.2376 - binary_accuracy: 0.7500\n",
            "Epoch 48/150\n",
            "1/1 [==============================] - 0s 8ms/step - loss: 0.2373 - binary_accuracy: 1.0000\n",
            "Epoch 49/150\n",
            "1/1 [==============================] - 0s 4ms/step - loss: 0.2371 - binary_accuracy: 1.0000\n",
            "Epoch 50/150\n",
            "1/1 [==============================] - 0s 6ms/step - loss: 0.2369 - binary_accuracy: 1.0000\n",
            "Epoch 51/150\n",
            "1/1 [==============================] - 0s 7ms/step - loss: 0.2367 - binary_accuracy: 1.0000\n",
            "Epoch 52/150\n",
            "1/1 [==============================] - 0s 9ms/step - loss: 0.2365 - binary_accuracy: 1.0000\n",
            "Epoch 53/150\n",
            "1/1 [==============================] - 0s 8ms/step - loss: 0.2362 - binary_accuracy: 1.0000\n",
            "Epoch 54/150\n",
            "1/1 [==============================] - 0s 6ms/step - loss: 0.2360 - binary_accuracy: 1.0000\n",
            "Epoch 55/150\n",
            "1/1 [==============================] - 0s 4ms/step - loss: 0.2358 - binary_accuracy: 1.0000\n",
            "Epoch 56/150\n",
            "1/1 [==============================] - 0s 5ms/step - loss: 0.2356 - binary_accuracy: 1.0000\n",
            "Epoch 57/150\n",
            "1/1 [==============================] - 0s 5ms/step - loss: 0.2353 - binary_accuracy: 1.0000\n",
            "Epoch 58/150\n",
            "1/1 [==============================] - 0s 7ms/step - loss: 0.2351 - binary_accuracy: 1.0000\n",
            "Epoch 59/150\n",
            "1/1 [==============================] - 0s 5ms/step - loss: 0.2349 - binary_accuracy: 1.0000\n",
            "Epoch 60/150\n",
            "1/1 [==============================] - 0s 9ms/step - loss: 0.2346 - binary_accuracy: 1.0000\n",
            "Epoch 61/150\n",
            "1/1 [==============================] - 0s 7ms/step - loss: 0.2344 - binary_accuracy: 1.0000\n",
            "Epoch 62/150\n",
            "1/1 [==============================] - 0s 5ms/step - loss: 0.2342 - binary_accuracy: 1.0000\n",
            "Epoch 63/150\n",
            "1/1 [==============================] - 0s 7ms/step - loss: 0.2340 - binary_accuracy: 1.0000\n",
            "Epoch 64/150\n",
            "1/1 [==============================] - 0s 4ms/step - loss: 0.2337 - binary_accuracy: 1.0000\n",
            "Epoch 65/150\n",
            "1/1 [==============================] - 0s 4ms/step - loss: 0.2335 - binary_accuracy: 1.0000\n",
            "Epoch 66/150\n",
            "1/1 [==============================] - 0s 6ms/step - loss: 0.2332 - binary_accuracy: 1.0000\n",
            "Epoch 67/150\n",
            "1/1 [==============================] - 0s 8ms/step - loss: 0.2330 - binary_accuracy: 1.0000\n",
            "Epoch 68/150\n",
            "1/1 [==============================] - 0s 4ms/step - loss: 0.2328 - binary_accuracy: 1.0000\n",
            "Epoch 69/150\n",
            "1/1 [==============================] - 0s 4ms/step - loss: 0.2325 - binary_accuracy: 1.0000\n",
            "Epoch 70/150\n",
            "1/1 [==============================] - 0s 5ms/step - loss: 0.2323 - binary_accuracy: 1.0000\n",
            "Epoch 71/150\n",
            "1/1 [==============================] - 0s 6ms/step - loss: 0.2321 - binary_accuracy: 1.0000\n",
            "Epoch 72/150\n",
            "1/1 [==============================] - 0s 4ms/step - loss: 0.2318 - binary_accuracy: 1.0000\n",
            "Epoch 73/150\n",
            "1/1 [==============================] - 0s 6ms/step - loss: 0.2316 - binary_accuracy: 1.0000\n",
            "Epoch 74/150\n",
            "1/1 [==============================] - 0s 5ms/step - loss: 0.2313 - binary_accuracy: 1.0000\n",
            "Epoch 75/150\n",
            "1/1 [==============================] - 0s 8ms/step - loss: 0.2311 - binary_accuracy: 1.0000\n",
            "Epoch 76/150\n",
            "1/1 [==============================] - 0s 5ms/step - loss: 0.2309 - binary_accuracy: 1.0000\n",
            "Epoch 77/150\n",
            "1/1 [==============================] - 0s 6ms/step - loss: 0.2306 - binary_accuracy: 1.0000\n",
            "Epoch 78/150\n",
            "1/1 [==============================] - 0s 6ms/step - loss: 0.2304 - binary_accuracy: 1.0000\n",
            "Epoch 79/150\n",
            "1/1 [==============================] - 0s 8ms/step - loss: 0.2301 - binary_accuracy: 1.0000\n",
            "Epoch 80/150\n",
            "1/1 [==============================] - 0s 6ms/step - loss: 0.2299 - binary_accuracy: 1.0000\n",
            "Epoch 81/150\n",
            "1/1 [==============================] - 0s 5ms/step - loss: 0.2296 - binary_accuracy: 1.0000\n",
            "Epoch 82/150\n",
            "1/1 [==============================] - 0s 5ms/step - loss: 0.2294 - binary_accuracy: 1.0000\n",
            "Epoch 83/150\n",
            "1/1 [==============================] - 0s 7ms/step - loss: 0.2291 - binary_accuracy: 1.0000\n",
            "Epoch 84/150\n",
            "1/1 [==============================] - 0s 6ms/step - loss: 0.2289 - binary_accuracy: 1.0000\n",
            "Epoch 85/150\n",
            "1/1 [==============================] - 0s 7ms/step - loss: 0.2286 - binary_accuracy: 1.0000\n",
            "Epoch 86/150\n",
            "1/1 [==============================] - 0s 16ms/step - loss: 0.2284 - binary_accuracy: 1.0000\n",
            "Epoch 87/150\n",
            "1/1 [==============================] - 0s 15ms/step - loss: 0.2281 - binary_accuracy: 1.0000\n",
            "Epoch 88/150\n",
            "1/1 [==============================] - 0s 5ms/step - loss: 0.2279 - binary_accuracy: 1.0000\n",
            "Epoch 89/150\n",
            "1/1 [==============================] - 0s 10ms/step - loss: 0.2276 - binary_accuracy: 1.0000\n",
            "Epoch 90/150\n",
            "1/1 [==============================] - 0s 8ms/step - loss: 0.2274 - binary_accuracy: 1.0000\n",
            "Epoch 91/150\n",
            "1/1 [==============================] - 0s 5ms/step - loss: 0.2271 - binary_accuracy: 1.0000\n",
            "Epoch 92/150\n",
            "1/1 [==============================] - 0s 5ms/step - loss: 0.2269 - binary_accuracy: 1.0000\n",
            "Epoch 93/150\n",
            "1/1 [==============================] - 0s 6ms/step - loss: 0.2266 - binary_accuracy: 1.0000\n",
            "Epoch 94/150\n",
            "1/1 [==============================] - 0s 8ms/step - loss: 0.2264 - binary_accuracy: 1.0000\n",
            "Epoch 95/150\n",
            "1/1 [==============================] - 0s 4ms/step - loss: 0.2261 - binary_accuracy: 1.0000\n",
            "Epoch 96/150\n",
            "1/1 [==============================] - 0s 7ms/step - loss: 0.2258 - binary_accuracy: 1.0000\n",
            "Epoch 97/150\n",
            "1/1 [==============================] - 0s 5ms/step - loss: 0.2256 - binary_accuracy: 1.0000\n",
            "Epoch 98/150\n",
            "1/1 [==============================] - 0s 8ms/step - loss: 0.2253 - binary_accuracy: 1.0000\n",
            "Epoch 99/150\n",
            "1/1 [==============================] - 0s 4ms/step - loss: 0.2251 - binary_accuracy: 1.0000\n",
            "Epoch 100/150\n",
            "1/1 [==============================] - 0s 4ms/step - loss: 0.2248 - binary_accuracy: 1.0000\n",
            "Epoch 101/150\n",
            "1/1 [==============================] - 0s 7ms/step - loss: 0.2245 - binary_accuracy: 1.0000\n",
            "Epoch 102/150\n",
            "1/1 [==============================] - 0s 4ms/step - loss: 0.2243 - binary_accuracy: 1.0000\n",
            "Epoch 103/150\n",
            "1/1 [==============================] - 0s 7ms/step - loss: 0.2240 - binary_accuracy: 1.0000\n",
            "Epoch 104/150\n",
            "1/1 [==============================] - 0s 4ms/step - loss: 0.2237 - binary_accuracy: 1.0000\n",
            "Epoch 105/150\n",
            "1/1 [==============================] - 0s 4ms/step - loss: 0.2235 - binary_accuracy: 1.0000\n",
            "Epoch 106/150\n",
            "1/1 [==============================] - 0s 5ms/step - loss: 0.2232 - binary_accuracy: 1.0000\n",
            "Epoch 107/150\n",
            "1/1 [==============================] - 0s 6ms/step - loss: 0.2229 - binary_accuracy: 1.0000\n",
            "Epoch 108/150\n",
            "1/1 [==============================] - 0s 5ms/step - loss: 0.2227 - binary_accuracy: 1.0000\n",
            "Epoch 109/150\n",
            "1/1 [==============================] - 0s 7ms/step - loss: 0.2224 - binary_accuracy: 1.0000\n",
            "Epoch 110/150\n",
            "1/1 [==============================] - 0s 5ms/step - loss: 0.2221 - binary_accuracy: 1.0000\n",
            "Epoch 111/150\n",
            "1/1 [==============================] - 0s 8ms/step - loss: 0.2219 - binary_accuracy: 1.0000\n",
            "Epoch 112/150\n",
            "1/1 [==============================] - 0s 4ms/step - loss: 0.2216 - binary_accuracy: 1.0000\n",
            "Epoch 113/150\n",
            "1/1 [==============================] - 0s 6ms/step - loss: 0.2213 - binary_accuracy: 1.0000\n",
            "Epoch 114/150\n",
            "1/1 [==============================] - 0s 8ms/step - loss: 0.2210 - binary_accuracy: 1.0000\n",
            "Epoch 115/150\n",
            "1/1 [==============================] - 0s 9ms/step - loss: 0.2208 - binary_accuracy: 1.0000\n",
            "Epoch 116/150\n",
            "1/1 [==============================] - 0s 4ms/step - loss: 0.2205 - binary_accuracy: 1.0000\n",
            "Epoch 117/150\n",
            "1/1 [==============================] - 0s 4ms/step - loss: 0.2202 - binary_accuracy: 1.0000\n",
            "Epoch 118/150\n",
            "1/1 [==============================] - 0s 6ms/step - loss: 0.2199 - binary_accuracy: 1.0000\n",
            "Epoch 119/150\n",
            "1/1 [==============================] - 0s 7ms/step - loss: 0.2197 - binary_accuracy: 1.0000\n",
            "Epoch 120/150\n",
            "1/1 [==============================] - 0s 5ms/step - loss: 0.2194 - binary_accuracy: 1.0000\n",
            "Epoch 121/150\n",
            "1/1 [==============================] - 0s 8ms/step - loss: 0.2191 - binary_accuracy: 1.0000\n",
            "Epoch 122/150\n",
            "1/1 [==============================] - 0s 41ms/step - loss: 0.2188 - binary_accuracy: 1.0000\n",
            "Epoch 123/150\n",
            "1/1 [==============================] - 0s 4ms/step - loss: 0.2185 - binary_accuracy: 1.0000\n",
            "Epoch 124/150\n",
            "1/1 [==============================] - 0s 4ms/step - loss: 0.2183 - binary_accuracy: 1.0000\n",
            "Epoch 125/150\n",
            "1/1 [==============================] - 0s 4ms/step - loss: 0.2180 - binary_accuracy: 1.0000\n",
            "Epoch 126/150\n",
            "1/1 [==============================] - 0s 6ms/step - loss: 0.2177 - binary_accuracy: 1.0000\n",
            "Epoch 127/150\n",
            "1/1 [==============================] - 0s 4ms/step - loss: 0.2174 - binary_accuracy: 1.0000\n",
            "Epoch 128/150\n",
            "1/1 [==============================] - 0s 5ms/step - loss: 0.2171 - binary_accuracy: 1.0000\n",
            "Epoch 129/150\n",
            "1/1 [==============================] - 0s 12ms/step - loss: 0.2168 - binary_accuracy: 1.0000\n",
            "Epoch 130/150\n",
            "1/1 [==============================] - 0s 34ms/step - loss: 0.2166 - binary_accuracy: 1.0000\n",
            "Epoch 131/150\n",
            "1/1 [==============================] - 0s 11ms/step - loss: 0.2163 - binary_accuracy: 1.0000\n",
            "Epoch 132/150\n",
            "1/1 [==============================] - 0s 4ms/step - loss: 0.2160 - binary_accuracy: 1.0000\n",
            "Epoch 133/150\n",
            "1/1 [==============================] - 0s 5ms/step - loss: 0.2157 - binary_accuracy: 1.0000\n",
            "Epoch 134/150\n",
            "1/1 [==============================] - 0s 4ms/step - loss: 0.2154 - binary_accuracy: 1.0000\n",
            "Epoch 135/150\n",
            "1/1 [==============================] - 0s 7ms/step - loss: 0.2151 - binary_accuracy: 1.0000\n",
            "Epoch 136/150\n",
            "1/1 [==============================] - 0s 5ms/step - loss: 0.2148 - binary_accuracy: 1.0000\n",
            "Epoch 137/150\n",
            "1/1 [==============================] - 0s 9ms/step - loss: 0.2145 - binary_accuracy: 1.0000\n",
            "Epoch 138/150\n",
            "1/1 [==============================] - 0s 4ms/step - loss: 0.2142 - binary_accuracy: 1.0000\n",
            "Epoch 139/150\n",
            "1/1 [==============================] - 0s 4ms/step - loss: 0.2139 - binary_accuracy: 1.0000\n",
            "Epoch 140/150\n",
            "1/1 [==============================] - 0s 5ms/step - loss: 0.2136 - binary_accuracy: 1.0000\n",
            "Epoch 141/150\n",
            "1/1 [==============================] - 0s 8ms/step - loss: 0.2133 - binary_accuracy: 1.0000\n",
            "Epoch 142/150\n",
            "1/1 [==============================] - 0s 4ms/step - loss: 0.2130 - binary_accuracy: 1.0000\n",
            "Epoch 143/150\n",
            "1/1 [==============================] - 0s 4ms/step - loss: 0.2128 - binary_accuracy: 1.0000\n",
            "Epoch 144/150\n",
            "1/1 [==============================] - 0s 9ms/step - loss: 0.2125 - binary_accuracy: 1.0000\n",
            "Epoch 145/150\n",
            "1/1 [==============================] - 0s 4ms/step - loss: 0.2122 - binary_accuracy: 1.0000\n",
            "Epoch 146/150\n",
            "1/1 [==============================] - 0s 5ms/step - loss: 0.2119 - binary_accuracy: 1.0000\n",
            "Epoch 147/150\n",
            "1/1 [==============================] - 0s 4ms/step - loss: 0.2116 - binary_accuracy: 1.0000\n",
            "Epoch 148/150\n",
            "1/1 [==============================] - 0s 7ms/step - loss: 0.2113 - binary_accuracy: 1.0000\n",
            "Epoch 149/150\n",
            "1/1 [==============================] - 0s 5ms/step - loss: 0.2110 - binary_accuracy: 1.0000\n",
            "Epoch 150/150\n",
            "1/1 [==============================] - 0s 4ms/step - loss: 0.2107 - binary_accuracy: 1.0000\n"
          ],
          "name": "stdout"
        }
      ]
    },
    {
      "cell_type": "code",
      "metadata": {
        "id": "gJdQ2dS2ji2Y",
        "colab": {
          "base_uri": "https://localhost:8080/"
        },
        "outputId": "4bae1a65-64a7-4948-c4fc-0763f9584764"
      },
      "source": [
        "model.predict(trainingData).round()"
      ],
      "execution_count": 13,
      "outputs": [
        {
          "output_type": "execute_result",
          "data": {
            "text/plain": [
              "array([[0.],\n",
              "       [1.],\n",
              "       [1.],\n",
              "       [0.]], dtype=float32)"
            ]
          },
          "metadata": {
            "tags": []
          },
          "execution_count": 13
        }
      ]
    },
    {
      "cell_type": "code",
      "metadata": {
        "id": "Zmc7fUoPmEXu",
        "colab": {
          "base_uri": "https://localhost:8080/",
          "height": 295
        },
        "outputId": "32da3eaa-43ad-4c02-b4cf-6d766826a136"
      },
      "source": [
        "lossCurve = history.history[\"loss\"]\n",
        "fig1, ax = plt.subplots()\n",
        "plt.plot(lossCurve, label=\"Train\")\n",
        "# plt.legend(loc='upper right')\n",
        "plt.title(\"Loss function\")\n",
        "plt.xlabel(\"epoch number\")\n",
        "fig1.savefig(\"loss function (XOR problem).png\")\n",
        "files.download(\"loss function (XOR problem).png\")"
      ],
      "execution_count": 14,
      "outputs": [
        {
          "output_type": "display_data",
          "data": {
            "application/javascript": [
              "\n",
              "    async function download(id, filename, size) {\n",
              "      if (!google.colab.kernel.accessAllowed) {\n",
              "        return;\n",
              "      }\n",
              "      const div = document.createElement('div');\n",
              "      const label = document.createElement('label');\n",
              "      label.textContent = `Downloading \"${filename}\": `;\n",
              "      div.appendChild(label);\n",
              "      const progress = document.createElement('progress');\n",
              "      progress.max = size;\n",
              "      div.appendChild(progress);\n",
              "      document.body.appendChild(div);\n",
              "\n",
              "      const buffers = [];\n",
              "      let downloaded = 0;\n",
              "\n",
              "      const channel = await google.colab.kernel.comms.open(id);\n",
              "      // Send a message to notify the kernel that we're ready.\n",
              "      channel.send({})\n",
              "\n",
              "      for await (const message of channel.messages) {\n",
              "        // Send a message to notify the kernel that we're ready.\n",
              "        channel.send({})\n",
              "        if (message.buffers) {\n",
              "          for (const buffer of message.buffers) {\n",
              "            buffers.push(buffer);\n",
              "            downloaded += buffer.byteLength;\n",
              "            progress.value = downloaded;\n",
              "          }\n",
              "        }\n",
              "      }\n",
              "      const blob = new Blob(buffers, {type: 'application/binary'});\n",
              "      const a = document.createElement('a');\n",
              "      a.href = window.URL.createObjectURL(blob);\n",
              "      a.download = filename;\n",
              "      div.appendChild(a);\n",
              "      a.click();\n",
              "      div.remove();\n",
              "    }\n",
              "  "
            ],
            "text/plain": [
              "<IPython.core.display.Javascript object>"
            ]
          },
          "metadata": {
            "tags": []
          }
        },
        {
          "output_type": "display_data",
          "data": {
            "application/javascript": [
              "download(\"download_296618db-79fe-4c2c-afea-b3e96bd1fcde\", \"loss function (XOR problem).png\", 15190)"
            ],
            "text/plain": [
              "<IPython.core.display.Javascript object>"
            ]
          },
          "metadata": {
            "tags": []
          }
        },
        {
          "output_type": "display_data",
          "data": {
            "image/png": "[encoded data removed]",
            "text/plain": [
              "<Figure size 432x288 with 1 Axes>"
            ]
          },
          "metadata": {
            "tags": [],
            "needs_background": "light"
          }
        }
      ]
    },
    {
      "cell_type": "code",
      "metadata": {
        "id": "MsPCwGflqQeG",
        "colab": {
          "base_uri": "https://localhost:8080/",
          "height": 295
        },
        "outputId": "eb595195-4f63-4259-d965-7a1291cb186c"
      },
      "source": [
        "accuracyCurve = history.history[\"binary_accuracy\"]\n",
        "fig2, ax = plt.subplots()\n",
        "plt.plot(accuracyCurve, label=\"Accuracy\")\n",
        "# plt.legend(loc='upper right')\n",
        "plt.title(\"accuracy change during the training\")\n",
        "plt.xlabel(\"epoch number\")\n",
        "fig2.savefig(\"accuracy XOR problem.png\")\n",
        "files.download(\"accuracy XOR problem.png\")"
      ],
      "execution_count": 16,
      "outputs": [
        {
          "output_type": "display_data",
          "data": {
            "application/javascript": [
              "\n",
              "    async function download(id, filename, size) {\n",
              "      if (!google.colab.kernel.accessAllowed) {\n",
              "        return;\n",
              "      }\n",
              "      const div = document.createElement('div');\n",
              "      const label = document.createElement('label');\n",
              "      label.textContent = `Downloading \"${filename}\": `;\n",
              "      div.appendChild(label);\n",
              "      const progress = document.createElement('progress');\n",
              "      progress.max = size;\n",
              "      div.appendChild(progress);\n",
              "      document.body.appendChild(div);\n",
              "\n",
              "      const buffers = [];\n",
              "      let downloaded = 0;\n",
              "\n",
              "      const channel = await google.colab.kernel.comms.open(id);\n",
              "      // Send a message to notify the kernel that we're ready.\n",
              "      channel.send({})\n",
              "\n",
              "      for await (const message of channel.messages) {\n",
              "        // Send a message to notify the kernel that we're ready.\n",
              "        channel.send({})\n",
              "        if (message.buffers) {\n",
              "          for (const buffer of message.buffers) {\n",
              "            buffers.push(buffer);\n",
              "            downloaded += buffer.byteLength;\n",
              "            progress.value = downloaded;\n",
              "          }\n",
              "        }\n",
              "      }\n",
              "      const blob = new Blob(buffers, {type: 'application/binary'});\n",
              "      const a = document.createElement('a');\n",
              "      a.href = window.URL.createObjectURL(blob);\n",
              "      a.download = filename;\n",
              "      div.appendChild(a);\n",
              "      a.click();\n",
              "      div.remove();\n",
              "    }\n",
              "  "
            ],
            "text/plain": [
              "<IPython.core.display.Javascript object>"
            ]
          },
          "metadata": {
            "tags": []
          }
        },
        {
          "output_type": "display_data",
          "data": {
            "application/javascript": [
              "download(\"download_b6cdb9c7-5f98-4dae-99fa-ea36e56b1f3e\", \"accuracy XOR problem.png\", 11429)"
            ],
            "text/plain": [
              "<IPython.core.display.Javascript object>"
            ]
          },
          "metadata": {
            "tags": []
          }
        },
        {
          "output_type": "display_data",
          "data": {
            "image/png": "[encoded data removed]",
            "text/plain": [
              "<Figure size 432x288 with 1 Axes>"
            ]
          },
          "metadata": {
            "tags": [],
            "needs_background": "light"
          }
        }
      ]
    }
  ]
}